{
 "cells": [
  {
   "cell_type": "code",
   "execution_count": null,
   "metadata": {},
   "outputs": [],
   "source": [
    "# We want to start by writing a sketch for how we will make this code work\n",
    "# The plan is that we can evolve some networks until some of them have a specific pattern \n",
    "# (maybe head tail, maybe gradient, maybe turing like pattern TBD later)\n",
    "# Once we found some suitable network(s) we try to evolve it.\n",
    "# This evolution is done by selecting some cells and setting their gene and epigenetic factors all to 0\n",
    "# We may choose to do it with single cells first, later we can always add more cells or larger clumps\n",
    "\n",
    "# Select cell i (preferably not at i=1 or i=END) set gene and epigenetic factors to 0\n",
    "# Now start a simulation WITHOUT splitting, with diffusion of certain genes\n",
    "# Once fully evolved compare the final epigenetic factor to that of the original value and assing a score function\n",
    "# Repeat this a few times for this network for different positions or patterns and give it a score\n",
    "\n",
    "# We have 2 directions we can go here then\n",
    "# 1) Mutate this network, verify it still has spatial patterns and then repeat this process of having these cells replaced\n",
    "# by stem cells and score them\n",
    "# Repeat this process until you have a network with spatial patterns that is able to regenerate different parts of itself\n",
    "# 2) Purely focus on making these spatial patterns, could robustness and stem cell replacement be a fundamental part\n",
    "# of a network that always reproduces similar patterns? Test out networks that always give very similar patterns (be careful\n",
    "# for mirrored networks, write some good function that is able to compare similarity of patterns)\n",
    "\n",
    "\n",
    "# To do:\n",
    "# 1) Write a proper spatial evolution code\n",
    "#  1.1) Write a good scoring function that is able to select for specific patterns\n",
    "#  1.2) Find good parameters on which our code is actually able to evolve and increase it's score\n",
    "#  1.3) Potentially test these networks for perturbed initial conditions, noise in the ODE instead of splitting\n",
    "# 2) Write a function that prepares a stem cell system\n",
    "# 3) Write a stem cell evolution code\n",
    "#  3.1) Write a scoring function that compares if the final epigenetic factors are close to the initial one\n",
    "#  3.2) Potentially write a mutation function which double checks that spatial robustness is not broken?\n",
    "# 4) Write a pattern similarity function, this is probably the hardest thing on this list\n",
    "#  4.1) Mirrored patterns\n",
    "#  4.2) Displaced patterns (for example island of 5 factors could be at a different position)\n",
    "#  4.3) Slightly more or less, islands of N could be with N+i or N-j instead\n",
    "#  4.4) Check that it's the same genes that have these behaviours\n",
    "#  4.5) Head tail behaviour remains? Gradient value between head and tail or a sudden jump?\n",
    "# 5) Consider stem cells which have different diffusion parameters? What if they are very open to it's neighbours?\n",
    "\n",
    "\n"
   ]
  }
 ],
 "metadata": {
  "kernelspec": {
   "display_name": "Julia 1.9.0",
   "language": "julia",
   "name": "julia-1.9"
  },
  "language_info": {
   "file_extension": ".jl",
   "mimetype": "application/julia",
   "name": "julia",
   "version": "1.9.0"
  }
 },
 "nbformat": 4,
 "nbformat_minor": 4
}
