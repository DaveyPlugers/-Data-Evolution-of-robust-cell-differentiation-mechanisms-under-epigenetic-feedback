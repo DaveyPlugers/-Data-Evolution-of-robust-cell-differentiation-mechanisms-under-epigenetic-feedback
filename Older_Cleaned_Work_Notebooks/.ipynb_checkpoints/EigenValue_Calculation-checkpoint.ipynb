{
 "cells": [
  {
   "cell_type": "code",
   "execution_count": null,
   "id": "5e0d2485-f5cd-478b-815a-9802c9fc4d78",
   "metadata": {},
   "outputs": [],
   "source": [
    "using Random\n",
    "using Plots\n",
    "using Distributions\n",
    "using DifferentialEquations\n",
    "using Statistics\n",
    "using ProgressMeter\n",
    "using TickTock\n",
    "using LinearAlgebra\n",
    "using StatsBase\n",
    "using LaTeXStrings\n",
    "using MultivariateStats\n",
    "using Dates\n",
    "using Distances\n",
    "using JLD\n",
    "using KernelDensity\n",
    "using Plots\n",
    "using StatsPlots\n",
    "\n",
    "TestMatrix = rand(5,5)"
   ]
  },
  {
   "cell_type": "code",
   "execution_count": null,
   "id": "15f3c951-b227-4f43-b83b-3b015f809e25",
   "metadata": {},
   "outputs": [],
   "source": [
    "Values = eigvals(TestMatrix)\n",
    "Vectors = eigvecs(TestMatrix)"
   ]
  },
  {
   "cell_type": "code",
   "execution_count": null,
   "id": "fd6cae55-a01f-4edf-adfb-213024b211f3",
   "metadata": {},
   "outputs": [],
   "source": []
  }
 ],
 "metadata": {
  "kernelspec": {
   "display_name": "Julia 1.9.0",
   "language": "julia",
   "name": "julia-1.9"
  },
  "language_info": {
   "file_extension": ".jl",
   "mimetype": "application/julia",
   "name": "julia",
   "version": "1.9.0"
  }
 },
 "nbformat": 4,
 "nbformat_minor": 5
}
