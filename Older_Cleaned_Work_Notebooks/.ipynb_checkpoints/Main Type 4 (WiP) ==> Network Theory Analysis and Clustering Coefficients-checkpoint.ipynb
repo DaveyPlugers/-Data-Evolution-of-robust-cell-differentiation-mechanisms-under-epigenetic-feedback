{
 "cells": [
  {
   "cell_type": "code",
   "execution_count": null,
   "id": "ae7cfd54",
   "metadata": {},
   "outputs": [],
   "source": [
    "using Graphs\n",
    "#g = Graph(3)\n",
    "A = [\n",
    "    0 1 1\n",
    "    0 0 0\n",
    "    1 0 0\n",
    "]\n",
    "\n",
    "G = DiGraph(A)\n",
    "gplot(G)"
   ]
  },
  {
   "cell_type": "code",
   "execution_count": null,
   "id": "a3609ad9",
   "metadata": {},
   "outputs": [],
   "source": [
    "typeof(g)"
   ]
  },
  {
   "cell_type": "code",
   "execution_count": null,
   "id": "78bdc2eb",
   "metadata": {},
   "outputs": [],
   "source": []
  }
 ],
 "metadata": {
  "kernelspec": {
   "display_name": "Julia 1.9.0",
   "language": "julia",
   "name": "julia-1.9"
  },
  "language_info": {
   "file_extension": ".jl",
   "mimetype": "application/julia",
   "name": "julia",
   "version": "1.9.0"
  }
 },
 "nbformat": 4,
 "nbformat_minor": 5
}
