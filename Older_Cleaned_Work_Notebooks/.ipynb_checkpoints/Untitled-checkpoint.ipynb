{
 "cells": [
  {
   "cell_type": "code",
   "execution_count": null,
   "id": "538b4efe",
   "metadata": {},
   "outputs": [],
   "source": [
    "print(\"Hello World\")"
   ]
  },
  {
   "cell_type": "code",
   "execution_count": null,
   "id": "42e67bb1",
   "metadata": {},
   "outputs": [],
   "source": [
    "N = 100\n",
    "k = 50\n",
    "Nodes = zeros(k)\n",
    "XArray = ceil.(rand(k)*N)\n",
    "for i=1:k\n",
    "    Nodes[i] = i\n",
    "    \n",
    "end"
   ]
  },
  {
   "cell_type": "code",
   "execution_count": null,
   "id": "11f2ec5f",
   "metadata": {},
   "outputs": [],
   "source": [
    "print(Nodes)\n",
    "\n",
    "\n",
    "print(XArray)\n",
    "\n"
   ]
  },
  {
   "cell_type": "code",
   "execution_count": null,
   "id": "ba4ff371",
   "metadata": {},
   "outputs": [],
   "source": [
    "Density = 0.2"
   ]
  },
  {
   "cell_type": "code",
   "execution_count": null,
   "id": "82b7da9a",
   "metadata": {},
   "outputs": [],
   "source": [
    "using Distributions\n",
    "d = Poisson(Density*k)"
   ]
  },
  {
   "cell_type": "code",
   "execution_count": null,
   "id": "354dd280",
   "metadata": {},
   "outputs": [],
   "source": [
    "Looping = true\n",
    "Connections = rand(d,k)\n",
    "while Looping\n",
    "    Connections = rand(d,k)\n",
    "    if sum(Connections)%2==0\n",
    "        Looping = false\n",
    "    end\n",
    "end\n",
    "print(sum(Connections))"
   ]
  },
  {
   "cell_type": "code",
   "execution_count": null,
   "id": "47b0bc94",
   "metadata": {},
   "outputs": [],
   "source": [
    "Edges = zeros(sum(Connections))\n",
    "t=0\n",
    "for j=1:k\n",
    "    for i=1:Connections[j]\n",
    "        t +=1\n",
    "        Edges[t] = Nodes[j]\n",
    "    end\n",
    "end"
   ]
  },
  {
   "cell_type": "code",
   "execution_count": null,
   "id": "d844dc53",
   "metadata": {},
   "outputs": [],
   "source": [
    "using Random\n",
    "Edges = shuffle(Edges)\n",
    "Edge_Number = Int(size(Edges)[1]/2)\n",
    "Reshaped_Edges = reshape(Edges,(2,Edge_Number))\n",
    "Resultant = zeros(Edge_Number)\n",
    "for i=1:Edge_Number\n",
    "    Resultant[i] = ceil(rand()*k)\n",
    "end"
   ]
  },
  {
   "cell_type": "code",
   "execution_count": null,
   "id": "3190f90b",
   "metadata": {},
   "outputs": [],
   "source": [
    "\n"
   ]
  },
  {
   "cell_type": "code",
   "execution_count": null,
   "id": "4b6f982d",
   "metadata": {},
   "outputs": [],
   "source": [
    "\n",
    "\n"
   ]
  },
  {
   "cell_type": "code",
   "execution_count": null,
   "id": "4fd0880c",
   "metadata": {
    "scrolled": true
   },
   "outputs": [],
   "source": [
    "%debug\n",
    "D = 200\n",
    "Divisions = 6\n",
    "for i=1:Divisions\n",
    "    while sum(XArray) < 2*N\n",
    "        Probabilities = XArray/sum(XArray)\n",
    "        for j=2:50\n",
    "            Probabilities[j] = Probabilities[j] + Probabilities[j-1] \n",
    "        end\n",
    "\n",
    "\n",
    "        for p=1:D\n",
    "            Random1 = rand()\n",
    "            Random2 = rand()\n",
    "            z=1\n",
    "            y=1\n",
    "            while Random1>Probabilities[z]\n",
    "                z +=1\n",
    "            end\n",
    "            while Random2>Probabilities[y]\n",
    "                y +=1\n",
    "            end\n",
    "\n",
    "\n",
    "            Couple = false\n",
    "            Indexation = 0\n",
    "            for i=1:Edge_Number\n",
    "                if Reshaped_Edges[1,i] ==z && Reshaped_Edges[2,i]==y\n",
    "                    Couple = true\n",
    "                    Indexation = i\n",
    "                end\n",
    "            end\n",
    "            if Couple == true && XArray[Int(Reshaped_Edges[1,i])] > 1\n",
    "                XArray[Int(Reshaped_Edges[1,i])] = XArray[Int(Reshaped_Edges[1,i])] - 1\n",
    "                XArray[Int(Resultant[i])] = XArray[Int(Resultant[i])] + 1\n",
    "\n",
    "            end\n",
    "        end\n",
    "        XArray[1] +=1\n",
    "        if rand()<XArray[1]/sum(XArray)\n",
    "            XArray[1] -=1\n",
    "        end\n",
    "    end\n",
    "    \n",
    "    XArray = XArray*rand()\n",
    "end"
   ]
  },
  {
   "cell_type": "code",
   "execution_count": null,
   "id": "7ea4eb94",
   "metadata": {},
   "outputs": [],
   "source": [
    "sum(XArray)/N"
   ]
  },
  {
   "cell_type": "code",
   "execution_count": null,
   "id": "ab507633",
   "metadata": {},
   "outputs": [],
   "source": [
    "XArray = sort(XArray, rev=true)"
   ]
  },
  {
   "cell_type": "code",
   "execution_count": null,
   "id": "2cc9d1a5",
   "metadata": {},
   "outputs": [],
   "source": [
    "using Plots\n",
    "plot(Nodes,XArray, xaxis=:log, yaxis=:log)"
   ]
  },
  {
   "cell_type": "code",
   "execution_count": null,
   "id": "e02414c4",
   "metadata": {},
   "outputs": [],
   "source": []
  },
  {
   "cell_type": "code",
   "execution_count": null,
   "id": "2518d763",
   "metadata": {
    "scrolled": true
   },
   "outputs": [],
   "source": [
    "using DifferentialEquations\n",
    "using Plots\n",
    "function Lotka(du,u,p,t)\n",
    "    du[1] = p[1]*u[1] - p[2]*u[1]*u[2]\n",
    "    du[2] = -p[3]*u[2] + p[4]*u[1]*u[2]\n",
    "    du[3] = p[1]*u[1] - p[2]*u[1]*u[2] + 0.2\n",
    "    du[4] = p[1]*u[1] - p[2]*u[1]*u[2] + 0.3\n",
    "    du[5] = p[1]*u[1] - p[2]*u[1]*u[2] + 0.4\n",
    "    du[6] = p[1]*u[1] - p[2]*u[1]*u[2] + 0.5\n",
    "    du[7] = p[1]*u[1] - p[2]*u[1]*u[2] + 0.6\n",
    "    du[8] = p[1]*u[1] - p[2]*u[1]*u[2] + 0.7\n",
    "    du[9] = p[1]*u[1] - p[2]*u[1]*u[2] + 0.8\n",
    "    du[10] = p[1]*u[1] - p[2]*u[1]*u[2] + 0.9\n",
    "end\n",
    "u_zero = [1.0,1.0,1.0,1.0,1.0,1.0,1.0,1.0,1.0,1.0]\n",
    "p = [1.5,1.0,3.0,1.0]\n",
    "\n",
    "tspan = (0.0,10.0)\n",
    "prob = ODEProblem(Lotka, u_zero,tspan,p)\n",
    "sol = solve(prob)\n",
    "plot(sol)"
   ]
  },
  {
   "cell_type": "code",
   "execution_count": null,
   "id": "54fc197a",
   "metadata": {},
   "outputs": [],
   "source": [
    "\n",
    "function Lotka(du,u,t)\n",
    "    du[1] = 1.5*u[1] - 1.0*u[1]*u[2]\n",
    "    du[2] = -3.0*u[2] + 1.0*u[1]*u[2]\n",
    "    du[3] = 10*u[1] + u[2] + u[3] - 3*u[1]*u[2]*u[3]\n",
    "    du[4] = 2*u[1]\n",
    "    du[5] =  1.5*u[1] - 1.0*u[1]*u[2]\n",
    "end\n",
    "u_zero = [1.0,1.1,1.0,2,1.0]\n",
    "p = (1.5,1.0,3.0,1.0)\n",
    "tspan = (0.0,10.0)\n",
    "prob = ODEProblem(Lotka, u_zero,tspan)\n",
    "sol = solve(prob)\n",
    "plot(sol)"
   ]
  },
  {
   "cell_type": "code",
   "execution_count": null,
   "id": "4761a0e6",
   "metadata": {},
   "outputs": [],
   "source": [
    "print(sol.t)"
   ]
  },
  {
   "cell_type": "code",
   "execution_count": null,
   "id": "0ef92a76",
   "metadata": {},
   "outputs": [],
   "source": []
  }
 ],
 "metadata": {
  "kernelspec": {
   "display_name": "Julia 1.9.0",
   "language": "julia",
   "name": "julia-1.9"
  },
  "language_info": {
   "file_extension": ".jl",
   "mimetype": "application/julia",
   "name": "julia",
   "version": "1.9.0"
  }
 },
 "nbformat": 4,
 "nbformat_minor": 5
}
