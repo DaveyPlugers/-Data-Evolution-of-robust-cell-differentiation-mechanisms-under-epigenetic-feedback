{
 "cells": [
  {
   "cell_type": "code",
   "execution_count": null,
   "metadata": {},
   "outputs": [],
   "source": [
    "using Random\n",
    "using Plots\n",
    "using Distributions\n",
    "using DifferentialEquations\n",
    "\n",
    "a = 1.0\n",
    "v = 6*10^-4\n",
    "M = 10 #This is the amount of genes we want in our network\n",
    "Orbit_Plotting = false  #Currently not used yet\n",
    "Epi_Plotting = true #Currently not used yet\n",
    "\n",
    "\n",
    "SplitTime = 1.5 #Time before a splitting event happens\n",
    "KArray = zeros(1,M) #Diffusion array is set to zero everywhere\n",
    "KArray[5] = 2 #Here we can manually adjust which genes will have diffusion\n",
    "\n"
   ]
  },
  {
   "cell_type": "code",
   "execution_count": null,
   "metadata": {},
   "outputs": [],
   "source": [
    "function Setting_Up_Randomly(M,rng=MersenneTwister(123))\n",
    "    \"Function used to randomly with seed define our c_i's, J_ij's and the initial positions\n",
    "    Input:\n",
    "    M   = Amount of Genes in our system\n",
    "    rng = Random Julia seed to make sure we can recreate the same initial conditions\n",
    "    Output:\n",
    "    CArray          = C_i's used, can only be between -0.5 and 0.5 now\n",
    "    PositionArray   = Random Initial position, between -1 and 1 for all genes, epifactors = 0\n",
    "    ParameterMatrix = J_ij's Currently a dense network with values between -0.5 and 0.5\n",
    "    \"\n",
    "    ParameterMatrix = zeros(M,M)\n",
    "    CArray = zeros(1,M)\n",
    "    PositionArray = zeros(1,2*M)\n",
    "    \n",
    "    CArray = rand(rng,M).-0.5; #Random c_j between -0,5 and 0.5\n",
    "    PositionArray[1:M] = 2*(rand(rng,M).-0.5); #Random Initial position \n",
    "    ParameterMatrix = rand(rng,M,M).-0.5; #J_jk's  \n",
    "    return CArray, PositionArray, ParameterMatrix\n",
    "end\n",
    "\n"
   ]
  },
  {
   "cell_type": "code",
   "execution_count": null,
   "metadata": {},
   "outputs": [],
   "source": [
    "RandomInitial = 1005 #Seed for Initial conditions\n",
    "\n",
    "CArray, PositionArray, ParameterMatrix = Setting_Up_Randomly(M,MersenneTwister(RandomInitial))\n",
    "#Sets the initial conditions that we will be reusing in the simulation (Change RandomInitial for different values)\n",
    "print(PositionArray)"
   ]
  },
  {
   "cell_type": "code",
   "execution_count": null,
   "metadata": {},
   "outputs": [],
   "source": [
    "function Epigenetic_Evolution(du,u,Parameters,Time)\n",
    "    \"Function used to define the ODE, needs to differentiate the boundaries and splits for diffusion.\n",
    "    Input:\n",
    "    du         = Used by ODESolver to calculate step, don't need to give input\n",
    "    u          = These are our x's for the dx = f(x) solving. Basically the parameters that change\n",
    "    Parameters = These are constants we have to give for our solver, it's a tuple consisting of J_ij's, C_i's, Diffusion, Splits\n",
    "    Time       = This determines for how long the ODE will run\n",
    "    Output is done through ODESolver, not this function\n",
    "    \"\n",
    "    ParameterMatrix = Parameters[1]\n",
    "    CArray = Parameters[2]\n",
    "    KArray = Parameters[3]\n",
    "    Splits = Parameters[4]\n",
    "    if Splits == 0  #Cannot difuse\n",
    "        for j=1:M*2^Splits #Gene evolution\n",
    "            du[j] = tanh(40*(sum(ParameterMatrix[j,:].*u[1:M]/sqrt(M)) + u[j+M] + CArray[j])) - u[j] \n",
    "        end\n",
    "    elseif Splits == 1   #Only diffusion with 1 neighbour, 2 cells in total\n",
    "        #i=1 is the first cell\n",
    "        for j=1:M\n",
    "           du[j] = tanh(40*(sum(ParameterMatrix[j,:].*u[1:M]/sqrt(M)) + u[j+M*2^Splits] + CArray[j])) - u[j] + KArray[j]*(u[j+M] - u[j])\n",
    "        end\n",
    "        #i=2 is the second cell\n",
    "        for j=1:M\n",
    "           du[j+M] = tanh(40*(sum(ParameterMatrix[j,:].*u[M+1:2*M]/sqrt(M)) + u[j+M+M*2^Splits] + CArray[j])) - u[j+M] + KArray[j]*(u[j] - u[j+M])\n",
    "        end\n",
    "        else #Now we have 4 or more cells\n",
    "        for i=0:2^Splits-1 #Loop over all cells, Can defuse but watch for boundaries (next if statement)\n",
    "            if i==0 #Boundaries for diff.\n",
    "                for j=1:M\n",
    "                    du[j] = tanh(40*(sum(ParameterMatrix[j,:].*u[1:M]/sqrt(M)) + u[j+M*2^Splits] + CArray[j])) - u[j] + KArray[j]*(u[j+M] - u[j])\n",
    "                end\n",
    "            elseif i == 2^Splits-1 #Boundaries for diff.\n",
    "                for j=1:M\n",
    "                    du[j+M*i] = tanh(40*(sum(ParameterMatrix[j,:].*u[i*M+1:M*2^Splits]/sqrt(M)) + u[j+M*i+M*2^Splits] + CArray[j])) - u[j+M*i] + KArray[j]*(u[j+M*(i-1)] - u[j+M*i])\n",
    "                end\n",
    "            else # Free to diffuse in both directions\n",
    "                for j=1:M\n",
    "                    du[j+M*i] = tanh(40*(sum(ParameterMatrix[j,:].*u[M*i+1:M*(i+1)]/sqrt(M)) + u[j+M*i+M*2^Splits] + CArray[j])) - u[j+M*i] + KArray[j]*(u[j+M*(i-1)] - 2u[j+M*i] + u[j+M*(i+1)])\n",
    "                end\n",
    "            end                \n",
    "        end\n",
    "    end\n",
    "    \n",
    "    for j=1:M*2^Splits #Epigenetic Evolution, no need to worry about boundaries here so simple loop\n",
    "        du[M*2^Splits + j] = v*(a*u[j] - u[j+M*2^Splits])\n",
    "    end\n",
    "end"
   ]
  },
  {
   "cell_type": "code",
   "execution_count": null,
   "metadata": {},
   "outputs": [],
   "source": [
    "\n",
    "function Noisy_Splitting(solution,Total_Splits,M,Seed)\n",
    "    \" Once our cell decides to split, we decide to introduce some random noise in how these genes get distributed.\n",
    "    This function takes the cells, doubles them and then gives the daughters cell the same gene parameters +- noise\n",
    "    one daughter gets + the other gets -. For the epigeneitc factors they are simply inherited and do not see any noise\n",
    "    Input:\n",
    "    solution     = These are the initial conditions of the parent cells that we need to split \n",
    "    (First genes of all cells, then all epigenetic factors)\n",
    "    Total_Splits = Amount of times the cell has split (including this current split)\n",
    "    M            = Amount of Genes\n",
    "    Seed         = Random Noise seed for reproducing results\n",
    "    Output:\n",
    "    SplittedArray = New array of the genes and epigenetic factors of the daughter cells\n",
    "    How is this structured? Suppose we take M=3 for convenience, we would have [g1,g2,g3,e1,e2,e3] for the first parent cell\n",
    "    The daughters become: [g11,g12,g13,g21,g22,g23,e11,e12,e13,e21,e22,e23]\n",
    "    Where we have genes of daughter 1, then genes of daughter 2, then epi of daughter 1 and epi of daughter 2.\n",
    "    When the Daughters split we get the genes of Children of cell 1, then genes of Children of cell 2 and same for epi.\n",
    "    \"\n",
    "    Random.seed!(Seed)\n",
    "    s = Total_Splits #For shortening\n",
    "    \n",
    "    SplittedArray = zeros(1,2^(s+1)*M) #2^(s+1), 2M is the normal length, 4M after 1 split, 8M after 2 splits etc.\n",
    "    for g=1:2^(s-1)*M #looping over the length of the parent\n",
    "        Gaussian = Normal(0.0,0.1)\n",
    "        Displace = rand(Gaussian) #Noise for split\n",
    "        index = Int.(floor((g-1)/M)*M +g) #example M=10: Index 1-> 1 and 11, index 2->2 and 12 ... \n",
    "        #index 10->10 and 20, index 11->21 and 30 and so on. \n",
    "\n",
    "        #Genes\n",
    "        SplittedArray[index] = solution[g] + Displace\n",
    "        SplittedArray[index+M] = solution[g] - Displace\n",
    "        \n",
    "        #Epigenetic\n",
    "        SplittedArray[index + 2^(s)*M] = solution[g + 2^(s-1)*M]\n",
    "        SplittedArray[index+M + 2^(s)*M] = solution[g + 2^(s-1)*M]   \n",
    "    end\n",
    "    return SplittedArray  \n",
    "end"
   ]
  },
  {
   "cell_type": "code",
   "execution_count": null,
   "metadata": {},
   "outputs": [],
   "source": []
  },
  {
   "cell_type": "code",
   "execution_count": null,
   "metadata": {},
   "outputs": [],
   "source": [
    "Orbit1 = 0\n",
    "Orbit2 = 0\n",
    "Orbit3 = 0\n",
    "Orbit4 = 0\n",
    "Orbit5 = 0\n",
    "EpiOrbit1 = 0\n",
    "EpiOrbit2 = 0\n",
    "EpiOrbit3 = 0\n",
    "EpiOrbit4 = 0\n",
    "EpiOrbit5 = 0\n",
    "FinalOrbit = 0\n",
    "FinalEpiOrbit = 0\n",
    "\n",
    "Splits = 5 #How often will we split\n",
    "Random_Noise = 574 #seed for splitting noise\n",
    "\n",
    "#Need to define outside for loop, otherwise it will be destroyed afterwards\n",
    "Times = 0\n",
    "Genes = 0\n",
    "\n",
    "for s=1:5 #Looping over the splits\n",
    "    Parameters = (ParameterMatrix, CArray,KArray,s-1) #We have to update the splits every rerun, rest stays same\n",
    "    tspan = (0.0,SplitTime) #How long ODE will run\n",
    "    prob = ODEProblem(Epigenetic_Evolution,PositionArray,tspan,Parameters) #ODEdefining\n",
    "    sol = solve(prob,abstol=1e-6) #Solving\n",
    "    Times = sol.t #Save the time, doesn't get used yet though\n",
    "    StepAmount = length(Times)  #Amount of data points per gene\n",
    "    Genes = sol \n",
    "    PositionArray = Genes[StepAmount] #Saving the genes and epi factors\n",
    "    \n",
    "    #Now we must take all the values from the updated PositionArray and give appropriate terms to the daughter cells\n",
    "    PositionArray = Noisy_Splitting(PositionArray,s,M,Random_Noise)  #Splitting function\n",
    "    \n",
    "    if s==1\n",
    "        Orbit1 = [Times,Genes[1,1:M,1:StepAmount]]\n",
    "        EpiOrbit1 = [Times,Genes[1,M+1:2*M,1:StepAmount]]\n",
    "    elseif s==2\n",
    "        Orbit2 = [Times.+SplitTime,Genes[1,1:M*2,1:StepAmount]]\n",
    "        EpiOrbit2 = [Times,Genes[1,2*M+1:2^2*M,1:StepAmount]]\n",
    "\n",
    "    elseif s==3\n",
    "        Orbit3 = [Times.+SplitTime*2,Genes[1,1:M*2^2,1:StepAmount]]\n",
    "         EpiOrbit3 = [Times,Genes[1,M*2^2+1:2^3*M,1:StepAmount]]\n",
    "\n",
    "    elseif s==4\n",
    "        Orbit4 = [Times.+SplitTime*3,Genes[1,1:M*2^3,1:StepAmount]]\n",
    "        EpiOrbit4 = [Times,Genes[1,M*2^3+1:2^4*M,1:StepAmount]]\n",
    "\n",
    "    elseif s==5\n",
    "        Orbit5 = [Times.+SplitTime*4,Genes[1,1:M*2^4,1:StepAmount]]\n",
    "        EpiOrbit5 = [Times,Genes[1,M*2^4+1:2^5*M,1:StepAmount]]\n",
    "\n",
    "    else\n",
    "        print(\"Error, add more orbittracker\")\n",
    "        break\n",
    "    end\n",
    "    \n",
    "    \n",
    "    #Now we rerun and keep splitting\n",
    "end\n"
   ]
  },
  {
   "cell_type": "code",
   "execution_count": null,
   "metadata": {},
   "outputs": [],
   "source": [
    "#print(Orbit1[2])\n",
    "#print(Genes[1,:])\n",
    "#print(Genes[:,2])\n",
    "#print(Orbit1[2])"
   ]
  },
  {
   "cell_type": "code",
   "execution_count": null,
   "metadata": {},
   "outputs": [],
   "source": [
    "GeneTimes = cat(Orbit1[1],Orbit2[1],Orbit3[1],Orbit4[1],Orbit5[1],dims=1)\n",
    "GeneEvolution = zeros(M*2^(Splits),length(GeneTimes),2)\n",
    "Length = 0\n",
    "for s=1:5  \n",
    "    if s==1\n",
    "        for i=1:M\n",
    "            Length = length(Orbit1[2][i,:])\n",
    "            for j=1:2^(Splits)  \n",
    "                GeneEvolution[i+M*(j-1),1:Length,1] = Orbit1[2][i,:]\n",
    "                GeneEvolution[i+M*(j-1),1:Length,2] = EpiOrbit1[2][i,:]\n",
    "            end\n",
    "        end\n",
    "    \n",
    "    elseif s==2\n",
    "        for i=1:2*M\n",
    "            for j=1:2^(Splits-s+1)\n",
    "                GeneEvolution[i+2*M*(j-1),Length+1:Length + length(Orbit2[2][i,:]),1] = Orbit2[2][i,:]\n",
    "                GeneEvolution[i+2*M*(j-1),Length+1:Length + length(Orbit2[2][i,:]),2] = EpiOrbit2[2][i,:]\n",
    "                \n",
    "            end\n",
    "        end\n",
    "        Length = Length + length(Orbit2[2][1,:])\n",
    "    elseif s==3\n",
    "        for i=1:4*M\n",
    "            for j=1:2^(Splits-s+1)\n",
    "                GeneEvolution[i+4*M*(j-1),Length+1:Length + length(Orbit3[2][i,:]),1] = Orbit3[2][i,:]\n",
    "                GeneEvolution[i+4*M*(j-1),Length+1:Length + length(Orbit3[2][i,:]),2] = EpiOrbit3[2][i,:]\n",
    "            end\n",
    "        end\n",
    "        Length = Length + length(Orbit3[2][1,:])\n",
    "\n",
    "    elseif s==4\n",
    "        for i=1:8*M\n",
    "            for j=1:2^(Splits-s+1)\n",
    "                GeneEvolution[i+8*M*(j-1),Length+1:Length + length(Orbit4[2][i,:]),1] = Orbit4[2][i,:]\n",
    "                GeneEvolution[i+8*M*(j-1),Length+1:Length + length(Orbit4[2][i,:]),2] = EpiOrbit4[2][i,:]\n",
    "                \n",
    "            end\n",
    "        end\n",
    "        Length = Length + length(Orbit4[2][1,:])\n",
    "    else\n",
    "        for i=1:16*M\n",
    "            for j=1:2^(Splits-s+1)\n",
    "                GeneEvolution[i+16*M*(j-1),Length+1:Length + length(Orbit5[2][i,:]),1] = Orbit5[2][i,:]\n",
    "                GeneEvolution[i+16*M*(j-1),Length+1:Length + length(Orbit5[2][i,:]),2] = EpiOrbit5[2][i,:]\n",
    "            end\n",
    "        end\n",
    "    end\n",
    "end\n"
   ]
  },
  {
   "cell_type": "code",
   "execution_count": null,
   "metadata": {},
   "outputs": [],
   "source": [
    "#print(GeneEvolution[1:160,:]-GeneEvolution[161:320,:]) = 0\n",
    "#print(GeneEvolution[81,:])"
   ]
  },
  {
   "cell_type": "code",
   "execution_count": null,
   "metadata": {},
   "outputs": [],
   "source": [
    "#print(GeneEvolution[:,:,2])"
   ]
  },
  {
   "cell_type": "code",
   "execution_count": null,
   "metadata": {},
   "outputs": [],
   "source": [
    "j=3\n",
    "pa = plot(GeneTimes,GeneEvolution[1,:,1]) \n",
    "for i=1:2^(Splits-1)-1\n",
    "  pa = plot!(GeneTimes,GeneEvolution[j+10*i,:,1]) \n",
    "end\n",
    "ylims!(-1, 1)\n",
    "j=4\n",
    "pb = plot(GeneTimes,GeneEvolution[j,:,1]) \n",
    "for i=1:2^(Splits-1)-1\n",
    "  pb = plot!(GeneTimes,GeneEvolution[j+10*i,:,1]) \n",
    "end\n",
    "ylims!(-1, 1)\n",
    "j=5\n",
    "pc = plot(GeneTimes,GeneEvolution[j,:,1]) \n",
    "for i=1:2^(Splits-1)-1\n",
    "  pc = plot!(GeneTimes,GeneEvolution[j+10*i,:,1]) \n",
    "end\n",
    "ylims!(-1, 1)\n",
    "j=7\n",
    "pd = plot(GeneTimes,GeneEvolution[j,:,1]) \n",
    "for i=1:2^(Splits-1)-1\n",
    "  pd = plot!(GeneTimes,GeneEvolution[j+10*i,:,1]) \n",
    "end\n",
    "ylims!(-1, 1)\n",
    "k = plot(pa,pb,pc,pd,layout=(4,1),legend=false)\n"
   ]
  },
  {
   "cell_type": "code",
   "execution_count": null,
   "metadata": {},
   "outputs": [],
   "source": [
    "Final_Run_Time = 50000 #Long evolving of the cells after splitting to get the final epigenetic state\n",
    "Parameters = (ParameterMatrix, CArray,KArray,Splits) \n",
    "tspan = (0.0,Final_Run_Time)\n",
    "\n",
    "prob = ODEProblem(Epigenetic_Evolution,PositionArray,tspan,Parameters) #ODEdefining\n",
    "sol = solve(prob,abstol=1e-6) #Solving\n",
    "Times = sol.t\n",
    "StepAmount = length(Times)\n",
    "GenesEpi = sol\n",
    "PositionArray = GenesEpi[StepAmount]\n",
    "Genes = PositionArray[1:2^Splits*M] #Saves all the final genes\n",
    "Epigenetic = PositionArray[1+2^Splits*M:2^(Splits+1)*M]; #Saves all the final Epigenetic factors\n",
    "FinalOrbit = [Times,GenesEpi[1,1:M*2^5,1:StepAmount]]\n",
    "FinalEpiOrbit = GenesEpi[1,M*2^5+1:M*2^6,1:StepAmount]"
   ]
  },
  {
   "cell_type": "code",
   "execution_count": null,
   "metadata": {},
   "outputs": [],
   "source": [
    "length(FinalEpiOrbit[:,1])"
   ]
  },
  {
   "cell_type": "code",
   "execution_count": null,
   "metadata": {},
   "outputs": [],
   "source": [
    "#Delete this later\n",
    "temporary = plot(Times,FinalEpiOrbit[1,:]) \n",
    "for i=1:2^(Splits-1)-1\n",
    "  temporary = plot!(Times,FinalEpiOrbit[i,:]) \n",
    "end\n",
    "ylims!(-1, 1)\n",
    "plot(temporary,legend=false)"
   ]
  },
  {
   "cell_type": "code",
   "execution_count": null,
   "metadata": {},
   "outputs": [],
   "source": [
    "FinalTimes = cat(Orbit1[1],Orbit2[1],Orbit3[1],Orbit4[1],Orbit5[1],FinalOrbit[1].+5*SplitTime,dims=1)\n",
    "FinalGeneEvolution = zeros(M*2^(Splits),length(FinalTimes))\n",
    "FinalGeneEvolution[:,1:length(GeneTimes)] = GeneEvolution[:,:,1]\n",
    "FinalGeneEvolution[:,length(GeneTimes)+1:end] = FinalOrbit[2]"
   ]
  },
  {
   "cell_type": "code",
   "execution_count": null,
   "metadata": {},
   "outputs": [],
   "source": [
    "Scale = 500 #Determines how much of the x axis we see (in units of Splitting Time)\n",
    "j=3\n",
    "pa = plot(vline([SplitTime,SplitTime*2,SplitTime*3,SplitTime*4,SplitTime*5],lc=\"red\",lw = 0.4))\n",
    "pa = plot!(FinalTimes,FinalGeneEvolution[1,:]) \n",
    "for i=1:2^(Splits-1)-1\n",
    "  pa = plot!(FinalTimes,FinalGeneEvolution[j+10*i,:]) \n",
    "end\n",
    "xlims!(0,Scale*SplitTime)\n",
    "ylims!(-1, 1)\n",
    "j=6\n",
    "pb = plot(vline([SplitTime,SplitTime*2,SplitTime*3,SplitTime*4,SplitTime*5],lc=\"red\",lw = 0.4))\n",
    "pb = plot!(FinalTimes,FinalGeneEvolution[j,:]) \n",
    "for i=1:2^(Splits-1)-1\n",
    "  pb = plot!(FinalTimes,FinalGeneEvolution[j+10*i,:]) \n",
    "end\n",
    "xlims!(0,Scale*SplitTime)\n",
    "ylims!(-1, 1)\n",
    "j=5\n",
    "pc = plot(vline([SplitTime,SplitTime*2,SplitTime*3,SplitTime*4,SplitTime*5],lc=\"red\",lw = 0.4))\n",
    "pc = plot!(FinalTimes,FinalGeneEvolution[j,:]) \n",
    "for i=1:2^(Splits-1)-1\n",
    "  pc = plot!(FinalTimes,FinalGeneEvolution[j+10*i,:]) \n",
    "end\n",
    "xlims!(0,Scale*SplitTime)\n",
    "ylims!(-1, 1)\n",
    "j=10\n",
    "pd = plot(vline([SplitTime,SplitTime*2,SplitTime*3,SplitTime*4,SplitTime*5],lc=\"red\",lw = 0.4))\n",
    "pd = plot!(FinalTimes,FinalGeneEvolution[j,:]) \n",
    "for i=1:2^(Splits-1)-1\n",
    "  pd = plot!(FinalTimes,FinalGeneEvolution[j+10*i,:]) \n",
    "end\n",
    "\n",
    "xlims!(0,Scale*SplitTime)\n",
    "ylims!(-1, 1)\n",
    "k = plot(pa,pb,pc,pd,layout=(4,1),legend=false)\n"
   ]
  },
  {
   "cell_type": "code",
   "execution_count": null,
   "metadata": {},
   "outputs": [],
   "source": [
    "#print(FinalTimes)\n",
    "#print(FinalGeneEvolution[15,:])\n",
    "print(ParameterMatrix[5,5])"
   ]
  },
  {
   "cell_type": "code",
   "execution_count": null,
   "metadata": {},
   "outputs": [],
   "source": [
    "#b = Noisy_Splitting([0,0,0,0,-10,-15,200,300],2,2,123)\n",
    "#print(b)\n",
    "#a = Noisy_Splitting(b,3,2,123)\n",
    "#print(a[17:32])\n",
    "#M = 2\n",
    "#Epigenetic = a[17:32]\n",
    "#Epigenetic_Plot = zeros(Int.(length(Epigenetic)/M),M)\n",
    "#for i=1:M\n",
    "#    Epigenetic_Plot[:,i] = Epigenetic[i:M:end]  #Reshapes the factors to plot easily\n",
    "#end\n",
    "#plot(Epigenetic_Plot,lw=1.5, palette = :tab10) #Final plot (palette is written for M=10, adjust manually if needed)\n",
    "#xlabel!(\"Cell Position\")\n",
    "#ylabel!(\"Epigenetic Factor\")"
   ]
  },
  {
   "cell_type": "code",
   "execution_count": null,
   "metadata": {},
   "outputs": [],
   "source": [
    "Epigenetic_Plot = zeros(Int.(length(Epigenetic)/M),M)\n",
    "for i=1:M\n",
    "    Epigenetic_Plot[:,i] = Epigenetic[i:M:end]  #Reshapes the factors to plot easily\n",
    "end\n",
    "plot(Epigenetic_Plot,lw=1.5, palette = :tab10) #Final plot (palette is written for M=10, adjust manually if needed)\n",
    "xlabel!(\"Cell Position\")\n",
    "ylabel!(\"Epigenetic Factor\")\n"
   ]
  },
  {
   "cell_type": "code",
   "execution_count": null,
   "metadata": {},
   "outputs": [],
   "source": [
    "plot(Epigenetic_Plot[:,3],lw=1.5, palette = :tab10)"
   ]
  },
  {
   "cell_type": "code",
   "execution_count": null,
   "metadata": {},
   "outputs": [],
   "source": [
    "function Differentiaton_Detection_Parameter(M,Epigenetic_Plot)\n",
    "    Diff_Parameter = zeros(M)\n",
    "    Jump_Parameter = zeros(M)\n",
    "    for i=1:Int.(length(Epigenetic_Plot[:,1]))\n",
    "        for j=1:M\n",
    "            if abs(Epigenetic_Plot[i,j]) < 0.85\n",
    "                Diff_Parameter[j] += 1\n",
    "            end\n",
    "            if i>1\n",
    "                if Epigenetic_Plot[i,j]*Epigenetic_Plot[i-1,j] < 0\n",
    "                    Jump_Parameter[j] += 1\n",
    "                end\n",
    "            end\n",
    "        end\n",
    "    end\n",
    "    \n",
    "    return Diff_Parameter, Jump_Parameter\n",
    "end\n",
    "print(Differentiaton_Detection_Parameter(M,Epigenetic_Plot))\n"
   ]
  },
  {
   "cell_type": "code",
   "execution_count": null,
   "metadata": {},
   "outputs": [],
   "source": [
    "#practice = [1,2,3,4,5,6,7,8,9,10,1,2,3,4,5,6,7,8,9,10,1,2,3,4,5,6,7,8,9,10,1,2,3,4,5,6,7,8,9,10]\n",
    "#print(practice[3:10:end])\n",
    "#print(length(practice))\n",
    "print(zeros(2))\n",
    "abs(-2)\n",
    "test = [2,3]\n",
    "test[1] += 1"
   ]
  },
  {
   "cell_type": "code",
   "execution_count": null,
   "metadata": {},
   "outputs": [],
   "source": [
    "test = [1,2,3,4,5,6]\n",
    "for i=1:3\n",
    "   print(test[2*i]) \n",
    "end"
   ]
  },
  {
   "cell_type": "code",
   "execution_count": null,
   "metadata": {},
   "outputs": [],
   "source": [
    "test = [2,5,7]\n",
    "a = floor((10-1)/10)+1\n",
    "print(Int.(a))"
   ]
  },
  {
   "cell_type": "code",
   "execution_count": null,
   "metadata": {},
   "outputs": [],
   "source": [
    "function foo(a=3;rng=MersenneTwister(123))\n",
    "  \n",
    "    return rand(rng,a)\n",
    "end\n",
    "\n",
    "print(foo())"
   ]
  },
  {
   "cell_type": "code",
   "execution_count": null,
   "metadata": {},
   "outputs": [],
   "source": [
    "Splits = 2\n",
    "for i=0:2^Splits-1\n",
    "    print(i)\n",
    "end"
   ]
  },
  {
   "cell_type": "code",
   "execution_count": null,
   "metadata": {},
   "outputs": [],
   "source": [
    "Splits = 4\n",
    "M*2^Splits"
   ]
  },
  {
   "cell_type": "code",
   "execution_count": null,
   "metadata": {},
   "outputs": [],
   "source": [
    "parameters = zeros(2,2)\n",
    "parameters[1,:] = [2,4]\n",
    "parameters[2,:] = [3,7]\n",
    "u = [1,2,3,4,5,6]\n",
    "sum(parameters[1,:].*u[1:2])"
   ]
  },
  {
   "cell_type": "code",
   "execution_count": null,
   "metadata": {},
   "outputs": [],
   "source": [
    "rand(MersenneTwister(123))"
   ]
  },
  {
   "cell_type": "code",
   "execution_count": null,
   "metadata": {},
   "outputs": [],
   "source": [
    "palette(:tab10)"
   ]
  },
  {
   "cell_type": "code",
   "execution_count": null,
   "metadata": {},
   "outputs": [],
   "source": [
    "test = [1 2 3;4 5 6; 7 8 9;10 11 12]\n",
    "print(test[1,2])\n",
    "alpha = [test [5 6]]\n",
    "print(alpha[1,5])"
   ]
  },
  {
   "cell_type": "code",
   "execution_count": null,
   "metadata": {},
   "outputs": [],
   "source": [
    "a = ([1],[4 7], [2])\n",
    "b = merge(a, (3,2))"
   ]
  },
  {
   "cell_type": "code",
   "execution_count": null,
   "metadata": {},
   "outputs": [],
   "source": []
  },
  {
   "cell_type": "code",
   "execution_count": null,
   "metadata": {},
   "outputs": [],
   "source": []
  }
 ],
 "metadata": {
  "kernelspec": {
   "display_name": "Julia 1.9.0",
   "language": "julia",
   "name": "julia-1.9"
  },
  "language_info": {
   "file_extension": ".jl",
   "mimetype": "application/julia",
   "name": "julia",
   "version": "1.9.0"
  }
 },
 "nbformat": 4,
 "nbformat_minor": 4
}
