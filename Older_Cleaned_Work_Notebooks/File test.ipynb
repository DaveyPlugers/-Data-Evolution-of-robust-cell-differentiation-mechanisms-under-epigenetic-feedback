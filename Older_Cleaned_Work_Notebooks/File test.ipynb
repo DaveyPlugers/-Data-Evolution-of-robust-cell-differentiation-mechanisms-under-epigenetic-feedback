{
 "cells": [
  {
   "cell_type": "code",
   "execution_count": null,
   "metadata": {},
   "outputs": [],
   "source": [
    "using JLD"
   ]
  },
  {
   "cell_type": "code",
   "execution_count": null,
   "metadata": {},
   "outputs": [],
   "source": [
    "t = 15\n",
    "z = [1,3,15]\n",
    "array = ones(3,3)\n",
    "save(\"Data_Folder/myfile.jld\", \"t\", t, \"arr\", z,\"Array\",array)\n"
   ]
  },
  {
   "cell_type": "code",
   "execution_count": null,
   "metadata": {},
   "outputs": [],
   "source": [
    "using Plots\n",
    "yeeter = [3*i for i=1:8]\n",
    "yeet = [i*i for i=1:8]\n",
    "\n",
    "plot(ones(8),yeeter,yeet)\n",
    "annotate!([(1,20, 1.5, \"Yeet\")])"
   ]
  },
  {
   "cell_type": "code",
   "execution_count": null,
   "metadata": {},
   "outputs": [],
   "source": [
    "mkpath(\"ProcessedData/TestFolder\")"
   ]
  },
  {
   "cell_type": "code",
   "execution_count": null,
   "metadata": {},
   "outputs": [],
   "source": []
  }
 ],
 "metadata": {
  "kernelspec": {
   "display_name": "Julia 1.9.0",
   "language": "julia",
   "name": "julia-1.9"
  },
  "language_info": {
   "file_extension": ".jl",
   "mimetype": "application/julia",
   "name": "julia",
   "version": "1.9.0"
  }
 },
 "nbformat": 4,
 "nbformat_minor": 4
}
