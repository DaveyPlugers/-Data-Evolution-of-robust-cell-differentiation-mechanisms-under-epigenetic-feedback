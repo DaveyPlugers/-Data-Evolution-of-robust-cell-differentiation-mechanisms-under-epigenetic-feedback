{
 "cells": [
  {
   "cell_type": "code",
   "execution_count": null,
   "id": "b9f3c6de-f87a-4b21-82c8-582493e2e324",
   "metadata": {},
   "outputs": [],
   "source": [
    "using ForwardDiff\n",
    "import ForwardDiff.jacobian\n",
    "\n",
    "function lorenz_rule(u)\n",
    "    σ = 10; ρ = 28; β = 8/3\n",
    "    vector = zero.(u)\n",
    "    vector[1] = σ*(u[2]-u[1])\n",
    "    vector[2] = u[1]*(ρ-u[3]) - u[2]\n",
    "    vector[3] = u[1]*u[2] - β*u[3]\n",
    "    return vector\n",
    "end\n",
    "\n",
    "d0 = 10^-8\n",
    "x_Start = [13.700483453885619,24.430781836410798,15.920741546307475]\n",
    "Delta_X = d0*ones(3)/sqrt(3)\n",
    "Time_Step_Size = 10^-4\n",
    "Sampling = 10000000\n",
    "Norms = zeros(Sampling)\n",
    "Norm_Avergaed = zeros(Sampling)\n",
    "Positions = zeros(Sampling,3)\n",
    "Perturbed_Positions_Saved = zeros(Sampling,3)\n",
    "\n",
    "\n",
    "Delta_X_Saved = zeros(Sampling,3)\n",
    "Step_Perturbed_Saved = zeros(Sampling,3)\n",
    "\n",
    "\n",
    "\n",
    "\n",
    "for i=1:Sampling\n",
    "    #Calculatign dX for both\n",
    "    Step_X = lorenz_rule(x_Start,0,0)\n",
    "    Step_Perturbed_X = lorenz_rule(x_Start+Delta_X,0,0)\n",
    "    \n",
    "\n",
    "    Delta_X_Saved[i,:] = Delta_X\n",
    "    Step_Perturbed_Saved[i,:] = Step_Perturbed_X\n",
    "    #Updating their positions\n",
    "    Perturbed_Position = x_Start+Delta_X + Step_Perturbed_X*Time_Step_Size\n",
    "    x_Start = x_Start +  Step_X*Time_Step_Size \n",
    "    \n",
    "    Positions[i,:] = x_Start\n",
    "    Perturbed_Positions_Saved[i,:] = Perturbed_Position\n",
    "    \n",
    "    #Calculating distance and renormalising Delta_X\n",
    "    d1 = sqrt(sum((Perturbed_Position .- x_Start).^2))\n",
    "    Delta_X =  d0*(Perturbed_Position-x_Start)/d1\n",
    "    Norms[i] = 1/Time_Step_Size*log(d1/d0)\n",
    "\n",
    "    if i==1\n",
    "        Norm_Avergaed[i] = Norms[i]\n",
    "    else\n",
    "\n",
    "        Norm_Avergaed[i] = (Norm_Avergaed[i-1]*(i-1) + Norms[i])/i\n",
    "    end\n",
    "\n",
    "end"
   ]
  },
  {
   "cell_type": "code",
   "execution_count": null,
   "id": "26319601-9bc6-445a-b451-823d15c48fca",
   "metadata": {},
   "outputs": [],
   "source": []
  },
  {
   "cell_type": "code",
   "execution_count": null,
   "id": "27a7a734-423f-4f04-a781-70f582a7eef1",
   "metadata": {},
   "outputs": [],
   "source": []
  },
  {
   "cell_type": "code",
   "execution_count": null,
   "id": "85142ff1-f1c0-46c9-bc8c-24468f7b876f",
   "metadata": {},
   "outputs": [],
   "source": []
  },
  {
   "cell_type": "code",
   "execution_count": null,
   "id": "e354efa6-c07e-4742-ba80-f84f7589507e",
   "metadata": {},
   "outputs": [],
   "source": []
  },
  {
   "cell_type": "code",
   "execution_count": null,
   "id": "5a4a6a08-371a-4eb8-b53f-a57a86c5ca9a",
   "metadata": {},
   "outputs": [],
   "source": []
  },
  {
   "cell_type": "code",
   "execution_count": null,
   "id": "a745bdd6-749c-4d41-a870-22a93d0e8b0d",
   "metadata": {},
   "outputs": [],
   "source": []
  },
  {
   "cell_type": "code",
   "execution_count": null,
   "id": "3cd7bc5d-4fbc-4352-a012-82fcea79f16d",
   "metadata": {},
   "outputs": [],
   "source": []
  },
  {
   "cell_type": "code",
   "execution_count": null,
   "id": "f9dd1d75-c2bc-4257-b8fa-2e3b44c34730",
   "metadata": {},
   "outputs": [],
   "source": []
  },
  {
   "cell_type": "code",
   "execution_count": null,
   "id": "ba587ac3-19be-4fc0-a375-e1cc0405fe6f",
   "metadata": {},
   "outputs": [],
   "source": [
    "Norm_Avergaed[end]"
   ]
  },
  {
   "cell_type": "code",
   "execution_count": null,
   "id": "0377d893-f761-44b2-bfe8-c31307f5f201",
   "metadata": {},
   "outputs": [],
   "source": [
    "Easier_To_Plot = zeros(999)\n",
    "for k=1:999\n",
    "    Easier_To_Plot[k] = Norm_Avergaed[1+1000*k]\n",
    "end\n",
    "plot(Easier_To_Plot)\n",
    "ylims!(-0.5,2)"
   ]
  },
  {
   "cell_type": "code",
   "execution_count": null,
   "id": "b00444bf-34c5-4d65-abe8-7025f8461e29",
   "metadata": {},
   "outputs": [],
   "source": [
    "plot(log.(Other_Norms_Saved))"
   ]
  },
  {
   "cell_type": "code",
   "execution_count": null,
   "id": "6c8702f8-f6dc-4afa-9086-2ff1fb4db64c",
   "metadata": {},
   "outputs": [],
   "source": []
  },
  {
   "cell_type": "code",
   "execution_count": null,
   "id": "60fcc2d8-c118-4286-a1f2-b93bf0775ed9",
   "metadata": {},
   "outputs": [],
   "source": []
  },
  {
   "cell_type": "code",
   "execution_count": null,
   "id": "97ce01fc-2a17-4767-bd64-dbe99acd68b8",
   "metadata": {},
   "outputs": [],
   "source": []
  },
  {
   "cell_type": "code",
   "execution_count": null,
   "id": "82cc5c80-128f-42b3-b877-9becde76abd3",
   "metadata": {},
   "outputs": [],
   "source": []
  },
  {
   "cell_type": "code",
   "execution_count": null,
   "id": "d53d8655-46c1-4a3b-bc82-718cebbc6e4a",
   "metadata": {},
   "outputs": [],
   "source": []
  },
  {
   "cell_type": "code",
   "execution_count": null,
   "id": "56f150ab-316e-49ff-9b7b-093d759e5eec",
   "metadata": {},
   "outputs": [],
   "source": []
  },
  {
   "cell_type": "code",
   "execution_count": null,
   "id": "04476716-84d7-4adb-a6d4-f1fddd3d05fa",
   "metadata": {},
   "outputs": [],
   "source": []
  },
  {
   "cell_type": "code",
   "execution_count": null,
   "id": "f6214274-0e60-4327-968a-0dd93b25386e",
   "metadata": {},
   "outputs": [],
   "source": []
  },
  {
   "cell_type": "code",
   "execution_count": null,
   "id": "0fbe086e-b665-4abc-9388-226921308ca2",
   "metadata": {},
   "outputs": [],
   "source": []
  },
  {
   "cell_type": "code",
   "execution_count": null,
   "id": "3aa8ae47-2401-4f54-92ca-ac44e270be69",
   "metadata": {},
   "outputs": [],
   "source": [
    "N = 100\n",
    "\n",
    "Last_Digit_Counter = zeros(6)\n",
    "for k=1:100000\n",
    "    Cum_Sum = 0\n",
    "    while Cum_Sum<N\n",
    "        Digit = Int(ceil(rand()*6))\n",
    "        Cum_Sum += Digit\n",
    "        if Cum_Sum==N\n",
    "            Last_Digit_Counter[Digit] += 1\n",
    "        end\n",
    "    end\n",
    "end"
   ]
  },
  {
   "cell_type": "code",
   "execution_count": null,
   "id": "7b238c05-cff3-4eff-8c2c-2fd291a18b4d",
   "metadata": {},
   "outputs": [],
   "source": [
    "plot(Last_Digit_Counter)\n",
    "ylims!(0,5000)"
   ]
  },
  {
   "cell_type": "code",
   "execution_count": null,
   "id": "57e5bfac-7381-4201-b99a-de014b217f40",
   "metadata": {},
   "outputs": [],
   "source": []
  }
 ],
 "metadata": {
  "kernelspec": {
   "display_name": "Julia 1.9.0",
   "language": "julia",
   "name": "julia-1.9"
  },
  "language_info": {
   "file_extension": ".jl",
   "mimetype": "application/julia",
   "name": "julia",
   "version": "1.9.0"
  }
 },
 "nbformat": 4,
 "nbformat_minor": 5
}
